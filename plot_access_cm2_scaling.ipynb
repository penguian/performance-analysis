{
 "cells": [
  {
   "cell_type": "code",
   "execution_count": null,
   "metadata": {},
   "outputs": [],
   "source": [
    "import glob\n",
    "import os\n",
    "import pathlib\n",
    "import parse_access_cm2_results as par\n",
    "import plot_pandas_data as ppd\n",
    "import plot_right_axis_time as pra\n",
    "from convert_time import days_to_gregorian_years, gregorian_years_to_days\n",
    "from numpy import linspace"
   ]
  },
  {
   "cell_type": "code",
   "execution_count": null,
   "metadata": {},
   "outputs": [],
   "source": [
    "um_atmos_archive_dir = pathlib.PurePath(\"../access-cm2/cm2_test/archive/\")\n",
    "work_dir_glob = os.path.join(um_atmos_archive_dir, \"work.*.bench\")\n",
    "work_dir_list = glob.glob(work_dir_glob)"
   ]
  },
  {
   "cell_type": "code",
   "execution_count": null,
   "metadata": {},
   "outputs": [],
   "source": [
    "df = par.parse_all(work_dir_list)"
   ]
  },
  {
   "cell_type": "code",
   "execution_count": null,
   "metadata": {},
   "outputs": [],
   "source": [
    "bw = lambda d: d[d[\"npes_per_node\"] % 7 == 0]\n",
    "cl = lambda d: d[d[\"npes_per_node\"] % 6 == 0]"
   ]
  },
  {
   "cell_type": "code",
   "execution_count": null,
   "metadata": {},
   "outputs": [],
   "source": [
    "full = lambda d: d[d[\"npes_per_node\"] >= 28]\n",
    "half = lambda d: d[(d[\"npes_per_node\"] == 14) | (d[\"npes_per_node\"]) == 24]\n",
    "qrtr = lambda d: d[(d[\"npes_per_node\"] == 7) | (d[\"npes_per_node\"]) == 12]"
   ]
  },
  {
   "cell_type": "code",
   "execution_count": null,
   "metadata": {},
   "outputs": [],
   "source": [
    "atm1 = lambda d: d[d[\"atm_cols\"] != 28]\n",
    "atm2 = lambda d: d[d[\"atm_cols\"] == 28]"
   ]
  },
  {
   "cell_type": "code",
   "execution_count": null,
   "metadata": {},
   "outputs": [],
   "source": [
    "ocn0 = lambda d: d[d[\"ocn_npes\"] == 64]\n",
    "ocn1 = lambda d: d[d[\"ocn_npes\"] == 128]\n",
    "ocn2 = lambda d: d[d[\"ocn_npes\"] == 256]"
   ]
  },
  {
   "cell_type": "code",
   "execution_count": null,
   "metadata": {},
   "outputs": [],
   "source": [
    "omp1 = lambda d: d[d[\"omp_num_threads\"] == 1]\n",
    "omp2 = lambda d: d[d[\"omp_num_threads\"] == 2]"
   ]
  },
  {
   "cell_type": "code",
   "execution_count": null,
   "metadata": {},
   "outputs": [],
   "source": [
    "print(df.shape)"
   ]
  },
  {
   "cell_type": "code",
   "execution_count": null,
   "metadata": {},
   "outputs": [],
   "source": [
    "xticks_ncpus = lambda d: d[\"ncpus\"].sort_values().unique()\n",
    "xticks_npes  = lambda d: d[\"atm_npes\"].sort_values().unique()"
   ]
  },
  {
   "cell_type": "code",
   "execution_count": null,
   "metadata": {},
   "outputs": [],
   "source": [
    "data=cl(ocn1(omp1(full(df))))"
   ]
  },
  {
   "cell_type": "code",
   "execution_count": null,
   "metadata": {},
   "outputs": [],
   "source": [
    "ppd.loglog_by_group(\"ncpus\",\"walltime\",\n",
    "    by=[\"atm_cols\"], \n",
    "    data=data,\n",
    "    xlabel=\"CM2 cores\",\n",
    "    ylabel=\"Walltime (s)\",\n",
    "    xticks=xticks_ncpus(data),               \n",
    "    right_axis_fn=pra.no_right_axis,\n",
    "    legend_title=\"UM NPROCY\")"
   ]
  },
  {
   "cell_type": "code",
   "execution_count": null,
   "metadata": {},
   "outputs": [],
   "source": [
    "ppd.semilogx_by_group(\"ncpus\",\"walltime * ncpus\",\n",
    "    by=[\"atm_cols\"], \n",
    "    data=data,\n",
    "    xlabel=\"CM2 cores\",\n",
    "    ylabel=\"Walltime (s) x CM2 cores\",\n",
    "    xticks=xticks_ncpus(data),\n",
    "    yticks=linspace(0,800000,5),\n",
    "    right_axis_fn=pra.no_right_axis,\n",
    "    legend_title=\"UM NPROCY\")"
   ]
  },
  {
   "cell_type": "code",
   "execution_count": null,
   "metadata": {},
   "outputs": [],
   "source": [
    "ppd.semilogx_by_group(\"ncpus\",\"Atm_Step_4A (AS) * ncpus\",\n",
    "    by=[\"atm_cols\"], \n",
    "    data=data,\n",
    "    xlabel=\"CM2 cores\",\n",
    "    ylabel=\"UM time (s) x CM2 cores\",\n",
    "    xticks=xticks_ncpus(data),\n",
    "    yticks=linspace(0,800000,5),\n",
    "    right_axis_fn=pra.no_right_axis,\n",
    "    legend_title=\"UM NPROCY\")"
   ]
  },
  {
   "cell_type": "code",
   "execution_count": null,
   "metadata": {},
   "outputs": [],
   "source": [
    "ppd.loglog_by_group(\"ncpus\",\"Atm_Step_4A (AS) speed\",\n",
    "    by=[\"atm_cols\"], \n",
    "    data=data,\n",
    "    xlabel=\"CM2 cores\",\n",
    "    ylabel=\"UM speed (d/d)\",\n",
    "    xticks=xticks_ncpus(data),               \n",
    "    right_axis_fn=pra.plot_right_axis_yd,\n",
    "    legend_title=\"UM NPROCY\")"
   ]
  },
  {
   "cell_type": "code",
   "execution_count": null,
   "metadata": {},
   "outputs": [],
   "source": [
    "ppd.semilogx_by_group(\"ncpus\",\"Atm_Step_4A (AS) * ncpus speed\",\n",
    "    by=[\"atm_cols\"], \n",
    "    data=data,\n",
    "    xlabel=\"CM2 cores\",\n",
    "    ylabel=\"UM speed (d/d) per CM2 core\",\n",
    "    xticks=xticks_ncpus(data),\n",
    "    right_yticks=[0.002,0.005,0.01,0.02],\n",
    "    right_axis_fn=pra.plot_right_axis_yd,\n",
    "    legend_title=\"UM NPROCY\")"
   ]
  },
  {
   "cell_type": "code",
   "execution_count": null,
   "metadata": {},
   "outputs": [],
   "source": [
    "def print_speed(speeds):\n",
    "    print(\"CPUs d/d  Y/d\")\n",
    "    for ncpus in speeds:\n",
    "        speed = speeds[ncpus]\n",
    "        print(\n",
    "            f\"{ncpus:-4}\",\n",
    "            round(speed,2),\n",
    "            round(days_to_gregorian_years(speed),5))"
   ]
  },
  {
   "cell_type": "code",
   "execution_count": null,
   "metadata": {},
   "outputs": [],
   "source": [
    "def print_speed_per_cpu(speeds_per_cpu):\n",
    "    print(\"CPUs d/d  Y/d\")\n",
    "    for ncpus in speeds_per_cpu:\n",
    "        speed = speeds_per_cpu[ncpus]\n",
    "        print(\n",
    "            f\"{ncpus:-4}\",\n",
    "            round(speed,2),\n",
    "            round(days_to_gregorian_years(speed),5))"
   ]
  },
  {
   "cell_type": "code",
   "execution_count": null,
   "metadata": {},
   "outputs": [],
   "source": [
    "def derive_mean_speed(\n",
    "    df, \n",
    "    by=\"atm_cols\",\n",
    "    speed=\"Atm_Step_4A (AS) speed\"):    \n",
    "    mean_speed = dict()\n",
    "    group_cols = df.groupby(by)\n",
    "    for name, group in group_cols:\n",
    "        group_by_ncpus = group.groupby(\"ncpus\")\n",
    "        ncpus_list = group_by_ncpus.groups.keys()\n",
    "        mean_by_ncpus = group_by_ncpus.mean()\n",
    "        mean_speeds = mean_by_ncpus[speed]\n",
    "        mean_speed[name] = {\n",
    "           ncpus: mean_speeds[ncpus] for ncpus in ncpus_list}\n",
    "    return mean_speed"
   ]
  },
  {
   "cell_type": "code",
   "execution_count": null,
   "metadata": {},
   "outputs": [],
   "source": [
    "def derive_mean_speed_per_cpu(\n",
    "    df, \n",
    "    by=\"atm_cols\", \n",
    "    speed=\"Atm_Step_4A (AS) speed\"):\n",
    "    mean_speed_per_cpu = dict()\n",
    "    group_cols = df.groupby(by)\n",
    "    for name, group in group_cols:\n",
    "        group_by_ncpus = group.groupby(\"ncpus\")\n",
    "        ncpus_list = group_by_ncpus.groups.keys()\n",
    "        mean_by_ncpus = group_by_ncpus.mean()\n",
    "        mean_speeds = mean_by_ncpus[speed]\n",
    "        mean_speed_per_cpu[name] = {\n",
    "           ncpus: mean_speeds[ncpus]/ncpus for ncpus in ncpus_list}\n",
    "    return mean_speed_per_cpu"
   ]
  },
  {
   "cell_type": "code",
   "execution_count": null,
   "metadata": {},
   "outputs": [],
   "source": [
    "mean_speed_per_cpu = derive_mean_speed_per_cpu(\n",
    "    data,\n",
    "    by=\"atm_cols\")\n",
    "    \n",
    "print(\"Mean speed per CM2 core for UM NPROCY: 12\")\n",
    "print_speed_per_cpu(mean_speed_per_cpu[12])\n",
    "print(\"Mean speed per CM2 core for UM NPROCY: 24\")\n",
    "print_speed_per_cpu(mean_speed_per_cpu[24])\n",
    "print(\"Mean speed per CM2 core for UM NPROCY: 28\")\n",
    "print_speed_per_cpu(mean_speed_per_cpu[28])\n",
    "\n",
    "speed_24x12_vs_12x24 = round(\n",
    "    mean_speed_per_cpu[12][432]/mean_speed_per_cpu[24][432],3)\n",
    "speed_28x24_vs_24x28=round(\n",
    "    mean_speed_per_cpu[24][816]/mean_speed_per_cpu[28][816],3)\n",
    "\n",
    "print(\"Speed at 24 x 12 vs 12 x 24\")\n",
    "print(speed_24x12_vs_12x24)\n",
    "print(\"Speed at 28 x 24 vs 24 x 28\")\n",
    "print(speed_28x24_vs_24x28)"
   ]
  },
  {
   "cell_type": "code",
   "execution_count": null,
   "metadata": {},
   "outputs": [],
   "source": [
    "data=cl(ocn1(atm1(df)))"
   ]
  },
  {
   "cell_type": "code",
   "execution_count": null,
   "metadata": {},
   "outputs": [],
   "source": [
    "ppd.loglog_by_group(\"ncpus\",\"walltime\",\n",
    "    by=[\"omp_num_threads\",\"atm_cols\"], \n",
    "    data=data,\n",
    "    xlabel=\"CM2 cores\",\n",
    "    ylabel=\"Walltime (s)\",\n",
    "    xticks=xticks_ncpus(data),               \n",
    "    right_axis_fn=pra.no_right_axis,\n",
    "    legend_title=\"OMP_NUM_THREADS,UM NPROCY\")"
   ]
  },
  {
   "cell_type": "code",
   "execution_count": null,
   "metadata": {},
   "outputs": [],
   "source": [
    "ppd.semilogx_by_group(\"ncpus\",\"walltime * ncpus\",\n",
    "    by=[\"omp_num_threads\",\"atm_cols\"], \n",
    "    data=data,\n",
    "    xlabel=\"CM2 cores\",\n",
    "    ylabel=\"Walltime (s) x CM2 cores\",\n",
    "    xticks=xticks_ncpus(data),\n",
    "    yticks=linspace(0,1500000,4),\n",
    "    right_axis_fn=pra.no_right_axis,\n",
    "    legend_title=\"OMP_NUM_THREADS,UM NPROCY\")"
   ]
  },
  {
   "cell_type": "code",
   "execution_count": null,
   "metadata": {},
   "outputs": [],
   "source": [
    "ppd.semilogx_by_group(\"ncpus\",\"Atm_Step_4A (AS) * ncpus\",\n",
    "    by=[\"omp_num_threads\",\"atm_cols\"], \n",
    "    data=data,\n",
    "    xlabel=\"CM2 cores\",\n",
    "    ylabel=\"UM time (s) x CM2 cores\",\n",
    "    xticks=xticks_ncpus(data),\n",
    "    yticks=linspace(0,1200000,5),\n",
    "    right_axis_fn=pra.no_right_axis,\n",
    "    legend_title=\"OMP_NUM_THREADS,UM NPROCY\")"
   ]
  },
  {
   "cell_type": "code",
   "execution_count": null,
   "metadata": {},
   "outputs": [],
   "source": [
    "ppd.loglog_by_group(\"ncpus\",\"Atm_Step_4A (AS) speed\",\n",
    "    by=[\"omp_num_threads\",\"atm_cols\"], \n",
    "    data=data,\n",
    "    xlabel=\"CM2 cores\",\n",
    "    ylabel=\"UM speed (d/d)\",\n",
    "    xticks=xticks_ncpus(data),             \n",
    "    right_yticks=[0.5,1,2,5,10],\n",
    "    right_axis_fn=pra.plot_right_axis_yd,\n",
    "    legend_title=\"OMP_NUM_THREADS,\\nUM NPROCY\")"
   ]
  },
  {
   "cell_type": "code",
   "execution_count": null,
   "metadata": {},
   "outputs": [],
   "source": [
    "ppd.semilogx_by_group(\"ncpus\",\"Atm_Step_4A (AS) * ncpus speed\",\n",
    "    by=[\"omp_num_threads\",\"atm_cols\"], \n",
    "    data=data,\n",
    "    xlabel=\"CM2 cores\",\n",
    "    ylabel=\"UM speed (d/d) per CM2 core\",\n",
    "    xticks=xticks_ncpus(data),               \n",
    "    right_yticks=linspace(0,0.01,6),\n",
    "    right_axis_fn=pra.plot_right_axis_yd,\n",
    "    legend_title=\"OMP_NUM_THREADS,UM NPROCY\")"
   ]
  },
  {
   "cell_type": "code",
   "execution_count": null,
   "metadata": {},
   "outputs": [],
   "source": [
    "mean_speed_per_cpu = derive_mean_speed_per_cpu(\n",
    "    data,\n",
    "    by=[\"omp_num_threads\",\"atm_cols\"])\n",
    "print(\"Mean speed per CM2 core for OMP_NUM_THREADS: 1, UM NPROCY: 12\")\n",
    "print_speed_per_cpu(mean_speed_per_cpu[(1,12)])\n",
    "print(\"Mean speed per CM2 core for OMP_NUM_THREADS: 1, UM NPROCY: 24\")\n",
    "print_speed_per_cpu(mean_speed_per_cpu[(1,24)])\n",
    "print(\"Mean speed per CM2 core for OMP_NUM_THREADS: 2, UM NPROCY: 12\")\n",
    "print_speed_per_cpu(mean_speed_per_cpu[(2,12)])\n",
    "print(\"Mean speed per CM2 core for OMP_NUM_THREADS: 2, UM NPROCY: 24\")\n",
    "print_speed_per_cpu(mean_speed_per_cpu[(2,24)])\n",
    "\n",
    "speed_omp1_vs_omp2 = dict()\n",
    "speed_omp1_vs_omp2[432] = round(\n",
    "    mean_speed_per_cpu[(1,12)][432]/mean_speed_per_cpu[(2,12)][432],2)\n",
    "for ncpus in [720, 1296]:\n",
    "    speed_omp1_vs_omp2[ncpus] = round(\n",
    "        mean_speed_per_cpu[(1,24)][ncpus]/mean_speed_per_cpu[(2,24)][ncpus],2)\n",
    "for ncpus in [432, 720, 1296]:\n",
    "    print(f\"Speed for 1 thread vs 2 threads for {ncpus} cores\")\n",
    "    print(speed_omp1_vs_omp2[ncpus])"
   ]
  },
  {
   "cell_type": "code",
   "execution_count": null,
   "metadata": {},
   "outputs": [],
   "source": [
    "data=cl(omp1(atm1(full(df))))"
   ]
  },
  {
   "cell_type": "code",
   "execution_count": null,
   "metadata": {},
   "outputs": [],
   "source": [
    "ppd.loglog_by_group(\"ncpus\",\"walltime\",\n",
    "    by=[\"ocn_npes\",\"atm_cols\"], \n",
    "    data=data,\n",
    "    xlabel=\"CM2 cores\",\n",
    "    ylabel=\"Walltime (s)\",\n",
    "    xticks=xticks_ncpus(data),               \n",
    "    right_axis_fn=pra.no_right_axis,\n",
    "    legend_title=\"MOM cores,UM NPROCY\")"
   ]
  },
  {
   "cell_type": "code",
   "execution_count": null,
   "metadata": {},
   "outputs": [],
   "source": [
    "ppd.semilogx_by_group(\"ncpus\",\"walltime * ncpus\",\n",
    "    by=[\"ocn_npes\",\"atm_cols\"], \n",
    "    data=data,\n",
    "    xlabel=\"CM2 cores\",\n",
    "    ylabel=\"Walltime (s) x CM2 cores\",\n",
    "    xticks=xticks_ncpus(data),\n",
    "    yticks=linspace(0,800000,5),\n",
    "    right_axis_fn=pra.no_right_axis,\n",
    "    legend_title=\"MOM cores,UM NPROCY\")"
   ]
  },
  {
   "cell_type": "code",
   "execution_count": null,
   "metadata": {},
   "outputs": [],
   "source": [
    "ppd.semilogx_by_group(\"ncpus\",\"Atm_Step_4A (AS) * ncpus\",\n",
    "    by=[\"ocn_npes\",\"atm_cols\"], \n",
    "    data=data,\n",
    "    xlabel=\"CM2 cores\",\n",
    "    ylabel=\"UM time (s) x CM2 cores\",\n",
    "    xticks=xticks_ncpus(data),\n",
    "    yticks=linspace(0,800000,5),\n",
    "    right_axis_fn=pra.no_right_axis,\n",
    "    legend_title=\"MOM cores,UM NPROCY\")"
   ]
  },
  {
   "cell_type": "code",
   "execution_count": null,
   "metadata": {},
   "outputs": [],
   "source": [
    "ppd.loglog_by_group(\"ncpus\",\"Atm_Step_4A (AS) speed\",\n",
    "    by=[\"ocn_npes\",\"atm_cols\"], \n",
    "    data=data,\n",
    "    xlabel=\"CM2 cores\",\n",
    "    ylabel=\"UM speed (d/d)\",\n",
    "    xticks=xticks_ncpus(data),\n",
    "    right_axis_fn=pra.plot_right_axis_yd,\n",
    "    legend_title=\"MOM cores,UM NPROCY\")"
   ]
  },
  {
   "cell_type": "code",
   "execution_count": null,
   "metadata": {},
   "outputs": [],
   "source": [
    "ppd.semilogx_by_group(\"ncpus\",\"Atm_Step_4A (AS) * ncpus speed\",\n",
    "    by=[\"ocn_npes\",\"atm_cols\"], \n",
    "    data=data,\n",
    "    xlabel=\"CM2 cores\",\n",
    "    ylabel=\"UM speed (d/d) per CM2 core\",\n",
    "    xticks=xticks_ncpus(data),               \n",
    "    right_yticks=linspace(0,0.01,6),\n",
    "    right_axis_fn=pra.plot_right_axis_yd,\n",
    "    legend_title=\"MOM cores,UM NPROCY\")"
   ]
  },
  {
   "cell_type": "code",
   "execution_count": null,
   "metadata": {},
   "outputs": [],
   "source": [
    "ppd.loglog_by_group(\"atm_npes\",\"walltime\",\n",
    "    by=[\"ocn_npes\",\"atm_cols\"], \n",
    "    data=data,\n",
    "    xlabel=\"UM ranks\",\n",
    "    ylabel=\"Walltime (s)\",\n",
    "    xticks=xticks_npes(data),               \n",
    "    right_axis_fn=pra.no_right_axis,\n",
    "    legend_title=\"MOM cores,UM NPROCY\")"
   ]
  },
  {
   "cell_type": "code",
   "execution_count": null,
   "metadata": {},
   "outputs": [],
   "source": [
    "ppd.semilogx_by_group(\"atm_npes\",\"walltime * ncpus\",\n",
    "    by=[\"ocn_npes\",\"atm_cols\"], \n",
    "    data=data,\n",
    "    xlabel=\"UM ranks\",\n",
    "    ylabel=\"Walltime (s) x CM2 cores\",\n",
    "    xticks=xticks_npes(data),\n",
    "    yticks=linspace(0,800000,5),\n",
    "    right_axis_fn=pra.no_right_axis,\n",
    "    legend_title=\"MOM cores,UM NPROCY\")"
   ]
  },
  {
   "cell_type": "code",
   "execution_count": null,
   "metadata": {},
   "outputs": [],
   "source": [
    "ppd.semilogx_by_group(\"atm_npes\",\"Atm_Step_4A (AS) * ncpus\",\n",
    "    by=[\"ocn_npes\",\"atm_cols\"], \n",
    "    data=data,\n",
    "    xlabel=\"UM ranks\",\n",
    "    ylabel=\"UM time (s) x CM2 cores\",\n",
    "    xticks=xticks_npes(data),\n",
    "    yticks=linspace(0,800000,5),\n",
    "    right_axis_fn=pra.no_right_axis,\n",
    "    legend_title=\"MOM cores,UM NPROCY\")"
   ]
  },
  {
   "cell_type": "code",
   "execution_count": null,
   "metadata": {},
   "outputs": [],
   "source": [
    "ppd.loglog_by_group(\"atm_npes\",\"Atm_Step_4A (AS) speed\",\n",
    "    by=[\"ocn_npes\",\"atm_cols\"], \n",
    "    data=data,\n",
    "    xlabel=\"UM ranks\",\n",
    "    ylabel=\"UM speed (d/d)\",\n",
    "    xticks=xticks_npes(data),\n",
    "    right_axis_fn=pra.plot_right_axis_yd,\n",
    "    legend_title=\"MOM cores,UM NPROCY\")"
   ]
  },
  {
   "cell_type": "code",
   "execution_count": null,
   "metadata": {
    "scrolled": true
   },
   "outputs": [],
   "source": [
    "ppd.semilogx_by_group(\"atm_npes\",\"Atm_Step_4A (AS) * ncpus speed\",\n",
    "    by=[\"ocn_npes\",\"atm_cols\"], \n",
    "    data=data,\n",
    "    xlabel=\"UM ranks\",\n",
    "    ylabel=\"UM speed (d/d) per CM2 core\",\n",
    "    xticks=xticks_npes(data),               \n",
    "    right_yticks=linspace(0,0.01,6),\n",
    "    right_axis_fn=pra.plot_right_axis_yd,\n",
    "    legend_title=\"MOM cores,UM NPROCY\")"
   ]
  },
  {
   "cell_type": "code",
   "execution_count": null,
   "metadata": {
    "scrolled": true
   },
   "outputs": [],
   "source": [
    "series_speed_per_cpu = derive_mean_speed_per_cpu(\n",
    "    data,\n",
    "    by=[\"ocn_npes\",\"atm_cols\",\"atm_npes\"])\n",
    "mean_speed_per_cpu = (\n",
    "    lambda key:\n",
    "    list(series_speed_per_cpu[key].items())[0][1])\n",
    "print(\"MOM cores UM NPROCY UM Ranks Speed per CM2 core\")\n",
    "for key in series_speed_per_cpu:\n",
    "    speed = mean_speed_per_cpu(key)\n",
    "    print(f\"{key[0]:-6}     {key[1]:-6}    {key[2]:-6}    {speed:-5.3}\")\n",
    "print(\"MOM cores: 64 vs 128\")\n",
    "print(\"UM NPROCY: 12\")\n",
    "print(\"UM Ranks Speedup\")\n",
    "for npes in [144, 288]:\n",
    "    print(f\"{npes:-6}   {mean_speed_per_cpu((64,12,npes))/mean_speed_per_cpu((128,12,npes)):-5.3}\")\n",
    "print(\"UM NPROCY: 24\")\n",
    "print(\"UM Ranks Speedup\")\n",
    "for npes in [288, 576, 1152]:\n",
    "    print(f\"{npes:-6}   {mean_speed_per_cpu((64,24,npes))/mean_speed_per_cpu((128,24,npes)):-5.3}\")\n",
    "print(\"MOM cores: 128 vs 256\")\n",
    "print(\"UM NPROCY: 24\")\n",
    "print(\"UM Ranks Speedup\")\n",
    "for npes in [288, 576, 1152]:\n",
    "    print(f\"{npes:-6}   {mean_speed_per_cpu((128,24,npes))/mean_speed_per_cpu((256,24,npes)):-5.3}\")"
   ]
  },
  {
   "cell_type": "code",
   "execution_count": null,
   "metadata": {},
   "outputs": [],
   "source": [
    "npe144=lambda d:d[d[\"atm_npes\"] == 144]"
   ]
  },
  {
   "cell_type": "code",
   "execution_count": null,
   "metadata": {
    "scrolled": true
   },
   "outputs": [],
   "source": [
    "data=cl(ocn0(omp1(df)))\n",
    "ppd.loglog_by_group(\"ncpus\",\"Atm_Step_4A (AS) speed\",\n",
    "    by=[\"atm_npes\"], \n",
    "    data=data,\n",
    "    xlabel=\"CM2 cores\",\n",
    "    ylabel=\"UM speed (d/d)\",\n",
    "    xticks=xticks_ncpus(data),             \n",
    "    right_yticks=[0.5,1,2,5,10],\n",
    "    right_axis_fn=pra.plot_right_axis_yd,\n",
    "    legend_title=\"UM ranks\")"
   ]
  },
  {
   "cell_type": "code",
   "execution_count": null,
   "metadata": {
    "scrolled": true
   },
   "outputs": [],
   "source": [
    "ppd.loglog_by_group(\"ncpus\",\"Atm_Step_4A (AS) speed\",\n",
    "    by=[\"npes_per_node\"], \n",
    "    data=data,\n",
    "    xlabel=\"CM2 cores\",\n",
    "    ylabel=\"UM speed (d/d)\",\n",
    "    xticks=xticks_ncpus(data),             \n",
    "    right_yticks=[0.5,1,2,5,10],\n",
    "    right_axis_fn=pra.plot_right_axis_yd,\n",
    "    legend_title=\"PEs per node\")"
   ]
  },
  {
   "cell_type": "code",
   "execution_count": null,
   "metadata": {},
   "outputs": [],
   "source": [
    "ppd.semilogx_by_group(\"ncpus\",\"Atm_Step_4A (AS) * ncpus speed\",\n",
    "    by=[\"npes_per_node\"], \n",
    "    data=data,\n",
    "    xlabel=\"CM2 cores\",\n",
    "    ylabel=\"UM speed (d/d) per CM2 core\",\n",
    "    xticks=xticks_ncpus(data),\n",
    "    right_yticks=[0.002,0.005,0.01,0.02],\n",
    "    right_axis_fn=pra.plot_right_axis_yd,\n",
    "    legend_title=\"PEs per node\")"
   ]
  },
  {
   "cell_type": "code",
   "execution_count": null,
   "metadata": {
    "scrolled": true
   },
   "outputs": [],
   "source": [
    "ppd.loglog_by_group(\"atm_npes\",\"Atm_Step_4A (AS) speed\",\n",
    "    by=[\"npes_per_node\"], \n",
    "    data=data,\n",
    "    xlabel=\"UM ranks\",\n",
    "    ylabel=\"UM speed (d/d)\",\n",
    "    xticks=xticks_npes(data),             \n",
    "    right_yticks=[0.5,1,2,5,10],\n",
    "    right_axis_fn=pra.plot_right_axis_yd,\n",
    "    legend_title=\"PEs per node\")"
   ]
  },
  {
   "cell_type": "code",
   "execution_count": null,
   "metadata": {},
   "outputs": [],
   "source": [
    "data=full(omp1(df))"
   ]
  },
  {
   "cell_type": "code",
   "execution_count": null,
   "metadata": {
    "scrolled": false
   },
   "outputs": [],
   "source": [
    "def report_on_speed(data=full(omp1(df)),speed=None):\n",
    "    by = [\"atm_rows\",\"atm_cols\",\"ocn_rows\",\"ocn_cols\",\"npes_per_node\"]\n",
    "    series_speed = (\n",
    "        derive_mean_speed(data,by=by)\n",
    "    if speed is None else\n",
    "        derive_mean_speed(data,by=by,speed=speed))\n",
    "    mean_speed = (\n",
    "        lambda key:\n",
    "        list(series_speed[key].items())[0][1])\n",
    "    series_speed_keys = series_speed.keys()\n",
    "    speed_keys = []\n",
    "    for key_n in range(4):\n",
    "        speed_keys.append(sorted(set([key[key_n] for key in series_speed])))\n",
    "    print(\"Cascade Lake vs Broadwell\")\n",
    "    print(\"UM NPROCX UM NPROCY MOM NPROCX NPROCY Speedup\")\n",
    "    for atm_rows in speed_keys[0]:\n",
    "        for atm_cols in speed_keys[1]:\n",
    "            for ocn_rows in speed_keys[2]:\n",
    "                for ocn_cols in speed_keys[3]:\n",
    "                    key = (atm_rows,atm_cols,ocn_rows,ocn_cols,28)\n",
    "                    if key in series_speed_keys:\n",
    "                        print(\n",
    "                        f\"{atm_rows:-5}     {atm_cols:-5}      {ocn_rows:-5}  {ocn_cols:-5}    \"\n",
    "                        f\"{mean_speed((atm_rows,atm_cols,ocn_rows,ocn_cols,48))/mean_speed(key):-5.3}\")                \n"
   ]
  },
  {
   "cell_type": "code",
   "execution_count": null,
   "metadata": {
    "scrolled": true
   },
   "outputs": [],
   "source": [
    "report_on_speed()"
   ]
  },
  {
   "cell_type": "code",
   "execution_count": null,
   "metadata": {},
   "outputs": [],
   "source": [
    "report_on_speed(speed=\"walltime speed\")"
   ]
  },
  {
   "cell_type": "code",
   "execution_count": null,
   "metadata": {},
   "outputs": [],
   "source": [
    "report_on_speed(speed=\"Ocean speed\")"
   ]
  },
  {
   "cell_type": "code",
   "execution_count": null,
   "metadata": {},
   "outputs": [],
   "source": [
    "data=full(ocn0(omp1(df)))"
   ]
  },
  {
   "cell_type": "code",
   "execution_count": null,
   "metadata": {
    "scrolled": true
   },
   "outputs": [],
   "source": [
    "ppd.loglog_by_group(\"atm_npes\",\"Atm_Step_4A (AS) speed\",\n",
    "    by=[\"npes_per_node\",\"atm_cols\"], \n",
    "    data=data,\n",
    "    xlabel=\"UM ranks\",\n",
    "    ylabel=\"UM speed (d/d)\",\n",
    "    xticks=xticks_npes(data),             \n",
    "    right_yticks=[0.5,1,2,5,10],\n",
    "    right_axis_fn=pra.plot_right_axis_yd,\n",
    "    legend_title=\"PEs per node,UM NPROCY\")"
   ]
  },
  {
   "cell_type": "code",
   "execution_count": null,
   "metadata": {},
   "outputs": [],
   "source": [
    "ppd.semilogx_by_group(\"atm_npes\",\"Atm_Step_4A (AS) * ncpus speed\",\n",
    "    by=[\"npes_per_node\",\"atm_cols\"], \n",
    "    data=data,\n",
    "    xlabel=\"UM ranks\",\n",
    "    ylabel=\"UM speed (d/d) per CM2 core\",\n",
    "    xticks=xticks_npes(data),\n",
    "    right_yticks=[0.002,0.005,0.01,0.02],\n",
    "    right_axis_fn=pra.plot_right_axis_yd,\n",
    "    legend_title=\"PEs per node,UM NPROCY\")"
   ]
  },
  {
   "cell_type": "code",
   "execution_count": null,
   "metadata": {
    "scrolled": false
   },
   "outputs": [],
   "source": [
    "series_speed = derive_mean_speed(\n",
    "    data,\n",
    "    by=[\"npes_per_node\",\"atm_cols\",\"atm_npes\"])\n",
    "mean_speed = (\n",
    "    lambda key:\n",
    "    list(series_speed[key].items())[0][1])\n",
    "print(\"Cores per node  UM NPROCY UM Ranks   Speed\")\n",
    "for key in series_speed:\n",
    "    speed = mean_speed(key)\n",
    "    print(f\"  {key[0]:-6}       {key[1]:-6}     {key[2]:-6}   {speed:-10.3}\")\n",
    "print(\"Cascade Lake vs Broadwell\")\n",
    "print(\"UM NPROCY: 12\")\n",
    "print(\"UM Ranks Speedup\")\n",
    "for npes in [144]:\n",
    "    print(f\"{npes:-6}   {mean_speed((48,12,npes))/mean_speed((28,12,npes)):-5.3}\")"
   ]
  },
  {
   "cell_type": "code",
   "execution_count": null,
   "metadata": {},
   "outputs": [],
   "source": [
    "data=full(ocn1(omp1(df)))"
   ]
  },
  {
   "cell_type": "code",
   "execution_count": null,
   "metadata": {
    "scrolled": true
   },
   "outputs": [],
   "source": [
    "ppd.loglog_by_group(\"atm_npes\",\"Atm_Step_4A (AS) speed\",\n",
    "    by=[\"npes_per_node\",\"atm_cols\"], \n",
    "    data=data,\n",
    "    xlabel=\"UM ranks\",\n",
    "    ylabel=\"UM speed (d/d)\",\n",
    "    xticks=xticks_npes(data),             \n",
    "    right_yticks=[0.5,1,2,5,10],\n",
    "    right_axis_fn=pra.plot_right_axis_yd,\n",
    "    legend_title=\"PEs per node,UM NPROCY\")"
   ]
  },
  {
   "cell_type": "code",
   "execution_count": null,
   "metadata": {},
   "outputs": [],
   "source": [
    "ppd.semilogx_by_group(\"atm_npes\",\"Atm_Step_4A (AS) * ncpus speed\",\n",
    "    by=[\"npes_per_node\",\"atm_cols\"], \n",
    "    data=data,\n",
    "    xlabel=\"UM ranks\",\n",
    "    ylabel=\"UM speed (d/d) per CM2 core\",\n",
    "    xticks=xticks_npes(data),\n",
    "    right_yticks=[0.002,0.005,0.01,0.02],\n",
    "    right_axis_fn=pra.plot_right_axis_yd,\n",
    "    legend_title=\"PEs per node,UM NPROCY\")"
   ]
  },
  {
   "cell_type": "code",
   "execution_count": null,
   "metadata": {
    "scrolled": true
   },
   "outputs": [],
   "source": [
    "series_speed = derive_mean_speed(\n",
    "    data,\n",
    "    by=[\"npes_per_node\",\"atm_cols\",\"atm_npes\"])\n",
    "mean_speed = (\n",
    "    lambda key:\n",
    "    list(series_speed[key].items())[0][1])\n",
    "print(\"Cores per node  UM NPROCY UM Ranks   Speed\")\n",
    "for key in series_speed:\n",
    "    speed = mean_speed(key)\n",
    "    print(f\"  {key[0]:-6}       {key[1]:-6}     {key[2]:-6}   {speed:-10.3}\")\n",
    "print(\"Cascade Lake vs Broadwell\")\n",
    "print(\"UM NPROCY: 12\")\n",
    "print(\"UM Ranks Speedup\")\n",
    "for npes in [144]:\n",
    "    print(f\"{npes:-6}   {mean_speed((48,12,npes))/mean_speed((28,12,npes)):-5.3}\")\n",
    "print(\"UM NPROCY: 24\")\n",
    "print(\"UM Ranks Speedup\")\n",
    "for npes in [288]:\n",
    "    print(f\"{npes:-6}   {mean_speed((48,24,npes))/mean_speed((28,24,npes)):-5.3}\")\n",
    "print(\"UM NPROCY: 28\")\n",
    "print(\"UM Ranks Speedup\")\n",
    "for npes in [672]:\n",
    "    print(f\"{npes:-6}   {mean_speed((48,28,npes))/mean_speed((28,28,npes)):-5.3}\")    "
   ]
  },
  {
   "cell_type": "code",
   "execution_count": null,
   "metadata": {},
   "outputs": [],
   "source": [
    "data=full(omp1(ocn1(atm2(df))))\n",
    "ppd.loglog_by_group(\"ncpus\",\"Atm_Step_4A (AS) speed\",\n",
    "    by=[\"npes_per_node\",\"atm_cols\",\"ocn_npes\"], \n",
    "    data=data,\n",
    "    xlabel=\"ACCESS-CM2 cores\",\n",
    "    ylabel=\"UM speed (d/d)\",\n",
    "    xticks=xticks_ncpus(data),\n",
    "    yticks=[2500,3000,3500],                \n",
    "    right_yticks=[2,5,8,10,20],\n",
    "    right_axis_fn=pra.plot_right_axis_yd,\n",
    "    legend_title=\"PEs per node, UM NPROCY, MOM cores\")"
   ]
  },
  {
   "cell_type": "code",
   "execution_count": null,
   "metadata": {},
   "outputs": [],
   "source": [
    "data=full(omp1(ocn1(atm2(df))))\n",
    "ppd.semilogx_by_group(\"ncpus\",\"Atm_Step_4A (AS) * ncpus speed\",\n",
    "    by=[\"npes_per_node\",\"atm_cols\",\"ocn_npes\"], \n",
    "    data=data,\n",
    "    xlabel=\"ACCESS-CM2 cores\",\n",
    "    ylabel=\"UM speed (d/d) per CM2 core\",\n",
    "    xticks=xticks_ncpus(data),\n",
    "    right_yticks=[0.002,0.005,0.01,0.02],\n",
    "    right_axis_fn=pra.plot_right_axis_yd,\n",
    "    legend_title=\"PEs per node, UM NPROCY, MOM cores\")"
   ]
  },
  {
   "cell_type": "code",
   "execution_count": null,
   "metadata": {},
   "outputs": [],
   "source": [
    "import pandas as pd\n",
    "pd.set_option('display.max_rows', None)\n",
    "pd.set_option('display.max_columns', None)\n",
    "pd.set_option('display.width', None)\n",
    "pd.set_option('display.max_colwidth', None)"
   ]
  },
  {
   "cell_type": "code",
   "execution_count": null,
   "metadata": {
    "scrolled": false
   },
   "outputs": [],
   "source": [
    "#df.sort_values([\"omp_num_threads\",\"ocn_npes\",\"atm_npes\",\"atm_cols\"])"
   ]
  },
  {
   "cell_type": "code",
   "execution_count": null,
   "metadata": {},
   "outputs": [],
   "source": [
    "df.shape"
   ]
  },
  {
   "cell_type": "code",
   "execution_count": null,
   "metadata": {},
   "outputs": [],
   "source": [
    "bw(df).shape"
   ]
  },
  {
   "cell_type": "code",
   "execution_count": null,
   "metadata": {},
   "outputs": [],
   "source": [
    "#bw(df).sort_values([\"omp_num_threads\",\"ocn_npes\",\"atm_npes\",\"atm_cols\"])"
   ]
  },
  {
   "cell_type": "code",
   "execution_count": null,
   "metadata": {},
   "outputs": [],
   "source": [
    "df.loc[1,:]"
   ]
  }
 ],
 "metadata": {
  "kernelspec": {
   "display_name": "Python [conda env:analysis3-20.10] *",
   "language": "python",
   "name": "conda-env-analysis3-20.10-py"
  },
  "language_info": {
   "codemirror_mode": {
    "name": "ipython",
    "version": 3
   },
   "file_extension": ".py",
   "mimetype": "text/x-python",
   "name": "python",
   "nbconvert_exporter": "python",
   "pygments_lexer": "ipython3",
   "version": "3.8.6"
  }
 },
 "nbformat": 4,
 "nbformat_minor": 4
}
