{
 "cells": [
  {
   "cell_type": "code",
   "execution_count": null,
   "metadata": {},
   "outputs": [],
   "source": [
    "import glob\n",
    "import os\n",
    "import pathlib\n",
    "import parse_mom_sis_results as pmsr\n",
    "import plot_pandas_data as ppd\n",
    "import plot_right_axis_time as pra\n",
    "from convert_time import days_to_gregorian_years, gregorian_years_to_days\n",
    "from numpy import linspace"
   ]
  },
  {
   "cell_type": "code",
   "execution_count": null,
   "metadata": {},
   "outputs": [],
   "source": [
    "log_basenames_025 = (\n",
    "    \"logfile.048x20.AVX2-REPRO.0.1m logfile.048x20.AVX2-REPRO.1.1m logfile.048x20.AVX2-REPRO.2.1m \" + \n",
    "    \"logfile.048x20.noht.AVX512.0.1m logfile.048x20.noht.AVX512.1.1m logfile.048x20.noht.AVX512.2.1m logfile.048x20.noht.AVX512.3.1m logfile.048x20.noht.AVX512.4.1m \" +\n",
    "    \"logfile.048x20.noht.AVX512-REPRO.0.1m logfile.048x20.noht.AVX512-REPRO.1.1m logfile.048x20.noht.AVX512-REPRO.3.1m logfile.048x20.noht.AVX512-REPRO.4.1m logfile.048x20.noht.AVX512-REPRO.5.1m \" +\n",
    "    \"logfile.048x40.AVX2-REPRO.0.1m logfile.048x40.AVX2-REPRO.1.1m logfile.048x40.AVX2-REPRO.2.1m \" +\n",
    "    \"logfile.096x40.AVX2-REPRO.0.1m logfile.096x40.AVX2-REPRO.1.1m logfile.096x40.AVX2-REPRO.2.1m \" + \n",
    "    \"logfile.096x80.AVX2-REPRO.0.1m logfile.096x80.AVX2-REPRO.1.1m logfile.096x80.AVX2-REPRO.2.1m \" +\n",
    "    \"logfile.192x80.AVX2-REPRO.2.1m logfile.192x80.AVX2-REPRO.3.1m logfile.192x80.AVX2-REPRO.4.1m \" +\n",
    "    \"logfile.192x80.noht.AVX512.0.1m logfile.192x80.noht.AVX512.1.1m logfile.192x80.noht.AVX512.2.1m logfile.192x80.noht.AVX512.3.1m logfile.192x80.noht.AVX512.4.1m \" +\n",
    "    \"logfile.192x80.noht.AVX512-REPRO.0.1m logfile.192x80.noht.AVX512-REPRO.1.1m logfile.192x80.noht.AVX512-REPRO.2.1m logfile.192x80.noht.AVX512-REPRO.3.1m\"\n",
    ")"
   ]
  },
  {
   "cell_type": "code",
   "execution_count": null,
   "metadata": {},
   "outputs": [],
   "source": [
    "log_basenames_01 = (\n",
    "    \"logfile.0.1.048x20.AVX512-REPRO.0.1d logfile.0.1.048x40.AVX512-REPRO.0.1d logfile.0.1.096x40.AVX512-REPRO.0.1d logfile.0.1.096x80.AVX512-REPRO.0.1d logfile.0.1.192x80.AVX512-REPRO.0.1d \" + \n",
    "    \"logfile.0.1.048x20.AVX512-REPRO.1.1d logfile.0.1.048x40.AVX512-REPRO.1.1d logfile.0.1.096x40.AVX512-REPRO.1.1d logfile.0.1.096x80.AVX512-REPRO.1.1d logfile.0.1.192x80.AVX512-REPRO.1.1d \" +\n",
    "    \"logfile.0.1.048x20.AVX512-REPRO.2.1d logfile.0.1.048x40.AVX512-REPRO.2.1d logfile.0.1.096x40.AVX512-REPRO.2.1d logfile.0.1.096x80.AVX512-REPRO.2.1d logfile.0.1.192x80.AVX512-REPRO.2.1d\"\n",
    ")"
   ]
  },
  {
   "cell_type": "code",
   "execution_count": null,
   "metadata": {},
   "outputs": [],
   "source": [
    "mom_sis_work_dir = pathlib.PurePath(\"../access-om2/mom-sis/src/mom/work/\")\n",
    "log_dirname_025_bw_cl = os.path.join(mom_sis_work_dir,\"global_0.25_degree_NYF.BW-vs-CL\",\"logs.1m\")\n",
    "log_dirname_025 = os.path.join(mom_sis_work_dir,\"global_0.25_degree_NYF\",\"logs.1m\")\n",
    "log_dirname_01 = os.path.join(mom_sis_work_dir,\"global_0.1_degree\",\"logs.1d\")"
   ]
  },
  {
   "cell_type": "code",
   "execution_count": null,
   "metadata": {},
   "outputs": [],
   "source": [
    "bw_cl_globname = \"logfile.0?8x?8.*.1m\"\n",
    "logfiles_025_bw_cl = glob.glob(os.path.join(log_dirname_025_bw_cl, bw_cl_globname))\n",
    "logfiles_025 = [os.path.join(log_dirname_025, basename) for basename in log_basenames_025.split()]\n",
    "logfiles_01 = [os.path.join(log_dirname_01, basename) for basename in log_basenames_01.split()]"
   ]
  },
  {
   "cell_type": "code",
   "execution_count": null,
   "metadata": {},
   "outputs": [],
   "source": [
    "df_025_bw_cl = pmsr.parse_all(logfiles_025_bw_cl)\n",
    "df_025 = pmsr.parse_all(logfiles_025)\n",
    "df_01 = pmsr.parse_all(logfiles_01)"
   ]
  },
  {
   "cell_type": "code",
   "execution_count": null,
   "metadata": {},
   "outputs": [],
   "source": [
    "ppd.semilogx_by_group(\"cols\", \"Ocean speed\", \n",
    "    by=\"arch\", \n",
    "    data=df_025_bw_cl,\n",
    "    xlabel=\"MOM-SIS NPROCY\",\n",
    "    ylabel=\"Ocean speed (d/d)\",\n",
    "    yticks = linspace(0,10000,6),\n",
    "    right_yticks = linspace(0,25,6),                  \n",
    "    right_axis_fn=pra.plot_right_axis_yd,\n",
    "    legend_title=\"Architecture\")"
   ]
  },
  {
   "cell_type": "code",
   "execution_count": null,
   "metadata": {},
   "outputs": [],
   "source": [
    "mean_speed=dict()\n",
    "group_arch=df_025_bw_cl.groupby(\"arch\")\n",
    "for name, group in group_arch:\n",
    "    means = group.groupby(\"cols\")[\"Ocean speed\"].mean()\n",
    "    mean_speed[name] = means\n",
    "for cols in [28,48]:\n",
    "    for arch in [\"AVX2-REPRO-CL\",\"AVX512-REPRO\",\"AVX512\"]:\n",
    "        speed_cl_vs_bw = mean_speed[arch][cols] / mean_speed[\"AVX2-REPRO-BW\"][cols]\n",
    "        print(f\"{arch:14} {cols} {speed_cl_vs_bw:-6.4}\")"
   ]
  },
  {
   "cell_type": "code",
   "execution_count": null,
   "metadata": {},
   "outputs": [],
   "source": [
    "ppd.loglog_by_group(\"ncpus\", \"Ocean speed\", \n",
    "    by=\"arch\", \n",
    "    data=df_025,\n",
    "    xlabel=\"MOM-SIS cores\",\n",
    "    ylabel=\"Ocean speed (d/d)\",\n",
    "    yticks = [5000,10000,20000,50000,100000],\n",
    "    right_yticks=[10,20,50,100,200],                \n",
    "    right_axis_fn=pra.plot_right_axis_yd,\n",
    "    legend_title=\"Architecture\")"
   ]
  },
  {
   "cell_type": "code",
   "execution_count": null,
   "metadata": {},
   "outputs": [],
   "source": [
    "ppd.semilogx_by_group(\"ncpus\", \"Ocean speed per cpu\", \n",
    "    by=\"arch\", \n",
    "    data=df_025,\n",
    "    xlabel=\"MOM-SIS cores\",\n",
    "    ylabel=\"Ocean speed (d/d) per core\",\n",
    "    yticks=range(8),\n",
    "    right_yticks=[n/200.0 for n in range(4)],\n",
    "    right_axis_fn=pra.plot_right_axis_yd,\n",
    "    legend_title=\"Architecture\")"
   ]
  },
  {
   "cell_type": "code",
   "execution_count": null,
   "metadata": {},
   "outputs": [],
   "source": [
    "mean_025_speed=dict()\n",
    "group_025_arch=df_025.groupby(\"arch\")\n",
    "for name, group in group_025_arch:\n",
    "    means = group.groupby(\"ncpus\")[\"Ocean speed\"].mean()\n",
    "    mean_025_speed[name] = means\n",
    "speed_lo = mean_025_speed[\"AVX512-REPRO\"][960] / mean_025_speed[\"AVX2-REPRO\"][960]\n",
    "speed_hi = mean_025_speed[\"AVX512-REPRO\"][15360] / mean_025_speed[\"AVX2-REPRO\"][15360]\n",
    "print(round(speed_lo,2), round(days_to_gregorian_years(speed_lo),4))\n",
    "print(round(speed_hi,2), round(days_to_gregorian_years(speed_hi),4))"
   ]
  },
  {
   "cell_type": "code",
   "execution_count": null,
   "metadata": {},
   "outputs": [],
   "source": [
    "xticks_025 = df_025[\"ncpus\"].sort_values().unique() \n",
    "xticks_01 = df_01[\"ncpus\"].sort_values().unique()"
   ]
  },
  {
   "cell_type": "code",
   "execution_count": null,
   "metadata": {},
   "outputs": [],
   "source": [
    "ppd.loglog(\"ncpus\",\"Ocean speed\",\n",
    "    data=df_01,\n",
    "    xlabel=\"MOM-SIS cores\",\n",
    "    ylabel=\"Ocean speed (d/d)\",\n",
    "    xticks=xticks_01,\n",
    "    yticks=[100,200,500,1000,2000],\n",
    "    right_yticks=[0.5,1,2,5,10],\n",
    "    right_axis_fn=pra.plot_right_axis_yd)"
   ]
  },
  {
   "cell_type": "code",
   "execution_count": null,
   "metadata": {},
   "outputs": [],
   "source": [
    "ppd.semilogx(\"ncpus\",\"Ocean speed per cpu\",\n",
    "    data=df_01,\n",
    "    xlabel=\"MOM-SIS cores\",\n",
    "    ylabel=\"Ocean speed (d/d) per core\",\n",
    "    xticks=xticks_01,\n",
    "    yticks=[n/20.0 for n in range(5)],\n",
    "    right_yticks=[n/10000.0 for n in range(6)],\n",
    "    right_axis_fn=pra.plot_right_axis_yd)"
   ]
  },
  {
   "cell_type": "code",
   "execution_count": null,
   "metadata": {},
   "outputs": [],
   "source": [
    "ppd.loglog_by_group(\"ncpus\",\"ocean_time_per_step\",\n",
    "    by=\"arch\",\n",
    "    data=df_025,\n",
    "    xlabel=\"MOM-SIS cores\",\n",
    "    ylabel=\"Ocean time per step (s)\",\n",
    "    yticks=[0.02,0.05,0.1,0.2,0.5],\n",
    "    right_yticks=[],\n",
    "    right_axis_fn=pra.no_right_axis,\n",
    "    legend_title=\"Architecture\",\n",
    "    marker='d')"
   ]
  },
  {
   "cell_type": "code",
   "execution_count": null,
   "metadata": {},
   "outputs": [],
   "source": [
    "ppd.semilogx_by_group(\"ncpus\",\"ocean_cpu_time_per_step\",\n",
    "    by=\"arch\",\n",
    "    data=df_025,\n",
    "    xlabel=\"MOM-SIS cores\",\n",
    "    ylabel=\"MOM-SIS core time per step (core s)\",\n",
    "    yticks=[100.0 * n for n in range(7)],\n",
    "    right_yticks=[n/50.0 for n in range(9)],\n",
    "    right_axis_fn=pra.plot_right_axis_sh,\n",
    "    legend_title=\"Architecture\",\n",
    "    marker='d')"
   ]
  },
  {
   "cell_type": "code",
   "execution_count": null,
   "metadata": {},
   "outputs": [],
   "source": [
    "ppd.loglog(\"ncpus\",\"ocean_time_per_step\",\n",
    "    data=df_01,\n",
    "    xlabel=\"MOM-SIS cores\",\n",
    "    ylabel=\"Ocean time per step (s)\",\n",
    "    xticks=xticks_01,\n",
    "    yticks=[0.1,0.2,0.5,1.0,2.0],\n",
    "    right_yticks=[],\n",
    "    right_axis_fn=pra.no_right_axis,\n",
    "    marker='d')"
   ]
  },
  {
   "cell_type": "code",
   "execution_count": null,
   "metadata": {},
   "outputs": [],
   "source": [
    "ppd.semilogx(\"ncpus\",\"ocean_cpu_time_per_step\",\n",
    "    data=df_01,\n",
    "    xlabel=\"MOM-SIS cores\",\n",
    "    ylabel=\"MOM-SIS core time per step (core s)\",\n",
    "    xticks=xticks_01,\n",
    "    yticks=[500.0 * n for n in range(6)],\n",
    "    right_yticks=[n/10.0 for n in range(8)],\n",
    "    right_axis_fn=pra.plot_right_axis_sh,\n",
    "    marker='d')             "
   ]
  },
  {
   "cell_type": "code",
   "execution_count": null,
   "metadata": {},
   "outputs": [],
   "source": [
    "import pandas as pd\n",
    "pd.set_option('display.max_rows', None)\n",
    "pd.set_option('display.max_columns', None)\n",
    "pd.set_option('display.width', None)\n",
    "pd.set_option('display.max_colwidth', None)"
   ]
  },
  {
   "cell_type": "code",
   "execution_count": null,
   "metadata": {},
   "outputs": [],
   "source": [
    "df_025_bw_cl"
   ]
  },
  {
   "cell_type": "code",
   "execution_count": null,
   "metadata": {},
   "outputs": [],
   "source": [
    "df_025"
   ]
  },
  {
   "cell_type": "code",
   "execution_count": null,
   "metadata": {},
   "outputs": [],
   "source": [
    "df_01"
   ]
  },
  {
   "cell_type": "code",
   "execution_count": null,
   "metadata": {},
   "outputs": [],
   "source": [
    "import matplotlib\n",
    "matplotlib.__version__"
   ]
  },
  {
   "cell_type": "code",
   "execution_count": null,
   "metadata": {},
   "outputs": [],
   "source": []
  }
 ],
 "metadata": {
  "kernelspec": {
   "display_name": "Python 3",
   "language": "python",
   "name": "python3"
  },
  "language_info": {
   "codemirror_mode": {
    "name": "ipython",
    "version": 3
   },
   "file_extension": ".py",
   "mimetype": "text/x-python",
   "name": "python",
   "nbconvert_exporter": "python",
   "pygments_lexer": "ipython3",
   "version": "3.8.6"
  }
 },
 "nbformat": 4,
 "nbformat_minor": 4
}
